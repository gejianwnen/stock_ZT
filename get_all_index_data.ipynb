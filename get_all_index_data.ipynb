{
 "cells": [
  {
   "cell_type": "code",
   "execution_count": 1,
   "metadata": {},
   "outputs": [],
   "source": [
    "import pandas as pd\n",
    "import numpy as np\n",
    "import tushare as ts\n",
    "ts.set_token('29eaf3bcac23df4c6d025de157ab2d53beead3391fbe6e83b4ebcb6c')\n",
    "pro = ts.pro_api()\n",
    "\n",
    "import time\n",
    "import matplotlib.pyplot as plt"
   ]
  },
  {
   "cell_type": "code",
   "execution_count": 2,
   "metadata": {},
   "outputs": [],
   "source": [
    "SAVE_CSV = True\n",
    "GET_INDEX = True"
   ]
  },
  {
   "cell_type": "code",
   "execution_count": 3,
   "metadata": {},
   "outputs": [
    {
     "name": "stdout",
     "output_type": "stream",
     "text": [
      "获得指数总数： 596\n"
     ]
    },
    {
     "data": {
      "text/html": [
       "<div>\n",
       "<style scoped>\n",
       "    .dataframe tbody tr th:only-of-type {\n",
       "        vertical-align: middle;\n",
       "    }\n",
       "\n",
       "    .dataframe tbody tr th {\n",
       "        vertical-align: top;\n",
       "    }\n",
       "\n",
       "    .dataframe thead th {\n",
       "        text-align: right;\n",
       "    }\n",
       "</style>\n",
       "<table border=\"1\" class=\"dataframe\">\n",
       "  <thead>\n",
       "    <tr style=\"text-align: right;\">\n",
       "      <th></th>\n",
       "      <th>ts_code</th>\n",
       "      <th>name</th>\n",
       "      <th>market</th>\n",
       "      <th>publisher</th>\n",
       "      <th>category</th>\n",
       "      <th>base_date</th>\n",
       "      <th>base_point</th>\n",
       "      <th>list_date</th>\n",
       "    </tr>\n",
       "  </thead>\n",
       "  <tbody>\n",
       "    <tr>\n",
       "      <th>0</th>\n",
       "      <td>000001.SH</td>\n",
       "      <td>上证指数</td>\n",
       "      <td>SSE</td>\n",
       "      <td>中证公司</td>\n",
       "      <td>综合指数</td>\n",
       "      <td>19901219</td>\n",
       "      <td>100.00</td>\n",
       "      <td>19910715</td>\n",
       "    </tr>\n",
       "    <tr>\n",
       "      <th>1</th>\n",
       "      <td>000002.SH</td>\n",
       "      <td>上证A指</td>\n",
       "      <td>SSE</td>\n",
       "      <td>中证公司</td>\n",
       "      <td>综合指数</td>\n",
       "      <td>19901219</td>\n",
       "      <td>100.00</td>\n",
       "      <td>19920221</td>\n",
       "    </tr>\n",
       "    <tr>\n",
       "      <th>2</th>\n",
       "      <td>000003.SH</td>\n",
       "      <td>上证B指</td>\n",
       "      <td>SSE</td>\n",
       "      <td>中证公司</td>\n",
       "      <td>综合指数</td>\n",
       "      <td>19920221</td>\n",
       "      <td>100.00</td>\n",
       "      <td>19920221</td>\n",
       "    </tr>\n",
       "    <tr>\n",
       "      <th>3</th>\n",
       "      <td>000004.SH</td>\n",
       "      <td>上证工业类指数</td>\n",
       "      <td>SSE</td>\n",
       "      <td>中证公司</td>\n",
       "      <td>综合指数</td>\n",
       "      <td>19930430</td>\n",
       "      <td>1358.78</td>\n",
       "      <td>19930503</td>\n",
       "    </tr>\n",
       "    <tr>\n",
       "      <th>4</th>\n",
       "      <td>000005.SH</td>\n",
       "      <td>上证商业类指数</td>\n",
       "      <td>SSE</td>\n",
       "      <td>中证公司</td>\n",
       "      <td>综合指数</td>\n",
       "      <td>19930430</td>\n",
       "      <td>1358.78</td>\n",
       "      <td>19930503</td>\n",
       "    </tr>\n",
       "  </tbody>\n",
       "</table>\n",
       "</div>"
      ],
      "text/plain": [
       "     ts_code     name market publisher category base_date  base_point  \\\n",
       "0  000001.SH     上证指数    SSE      中证公司     综合指数  19901219      100.00   \n",
       "1  000002.SH     上证A指    SSE      中证公司     综合指数  19901219      100.00   \n",
       "2  000003.SH     上证B指    SSE      中证公司     综合指数  19920221      100.00   \n",
       "3  000004.SH  上证工业类指数    SSE      中证公司     综合指数  19930430     1358.78   \n",
       "4  000005.SH  上证商业类指数    SSE      中证公司     综合指数  19930430     1358.78   \n",
       "\n",
       "  list_date  \n",
       "0  19910715  \n",
       "1  19920221  \n",
       "2  19920221  \n",
       "3  19930503  \n",
       "4  19930503  "
      ]
     },
     "execution_count": 3,
     "metadata": {},
     "output_type": "execute_result"
    }
   ],
   "source": [
    "#获取基础信息数据，指数代码、名称、上市日期、退市日期等\n",
    "# 市场代码:\n",
    "#         MSCI\tMSCI指数\n",
    "#         CSI\t中证指数\n",
    "#         SSE\t上交所指数\n",
    "#         SZSE\t深交所指数\n",
    "#         CICC\t中金指数\n",
    "#         SW\t申万指数\n",
    "#         OTH\t其他指数\n",
    "market='SSE'\n",
    "pool_df = pro.index_basic(market=market)\n",
    "if SAVE_CSV:\n",
    "    pool_df.to_csv(\"./data/index/index_basic_info_\"+ market +\".csv\",index =False)\n",
    "print('获得指数总数：', len(pool_df)-1)\n",
    "pool_df.head()"
   ]
  },
  {
   "cell_type": "code",
   "execution_count": 4,
   "metadata": {},
   "outputs": [
    {
     "name": "stdout",
     "output_type": "stream",
     "text": [
      "正在获取第1家: 上证指数,代码000001.SH.\n",
      "正在获取第101家: 380公用,代码000113.SH.\n",
      "正在获取第201家: 中证800,代码000906.SH.\n",
      "正在获取第301家: 上证180全收益,代码h00010.SH.\n",
      "正在获取第401家: 消费50全收益,代码h00126.SH.\n",
      "正在获取第501家: 180SNLV全收益,代码h40098.SH.\n"
     ]
    }
   ],
   "source": [
    "# get daily data\n",
    "startdate = '20010101'\n",
    "enddate = '20200430'\n",
    "save_dir = \"./data/index/\"+ market + \"/daily/\"\n",
    "\n",
    "if GET_INDEX:\n",
    "    for i in range(len(pool_df)):\n",
    "        stock_code = pool_df.loc[i,\"ts_code\"]\n",
    "        stock_name = pool_df.loc[i,\"name\"]\n",
    "        if i%100 == 0:\n",
    "            print('正在获取第%d家: %s,代码%s.' % (i+1,stock_name, stock_code))\n",
    "        #接口限制访问200次/分钟，加一点微小的延时防止被ban\n",
    "        time.sleep(0.121)\n",
    "        df = pro.index_daily(ts_code = stock_code,startdate = startdate, enddate = enddate )\n",
    "        try:\n",
    "            df.to_csv(save_dir + stock_code + \"-\"+ stock_name + '.csv', index = False)\n",
    "        except:\n",
    "            try:\n",
    "                df.to_csv(save_dir + stock_code + '.csv', index = False)\n",
    "            except:\n",
    "                print(\"err: \", stock_name)"
   ]
  },
  {
   "cell_type": "code",
   "execution_count": 5,
   "metadata": {},
   "outputs": [
    {
     "name": "stdout",
     "output_type": "stream",
     "text": [
      "正在获取第1家: 上证指数,代码000001.SH.\n",
      "正在获取第101家: 380公用,代码000113.SH.\n",
      "正在获取第201家: 中证800,代码000906.SH.\n",
      "正在获取第301家: 上证180全收益,代码h00010.SH.\n",
      "正在获取第401家: 消费50全收益,代码h00126.SH.\n",
      "正在获取第501家: 180SNLV全收益,代码h40098.SH.\n"
     ]
    }
   ],
   "source": [
    "# get weekly data\n",
    "startdate = '20010101'\n",
    "# enddate = '20200313'\n",
    "save_dir = \"./data/index/\"+ market + \"/weekly/\"\n",
    "\n",
    "if GET_INDEX:\n",
    "    for i in range(len(pool_df)):\n",
    "        stock_code = pool_df.loc[i,\"ts_code\"]\n",
    "        stock_name = pool_df.loc[i,\"name\"]\n",
    "        if i%100 == 0:\n",
    "            print('正在获取第%d家: %s,代码%s.' % (i+1,stock_name, stock_code))\n",
    "        #接口限制访问200次/分钟，加一点微小的延时防止被ban\n",
    "        time.sleep(0.121)\n",
    "        df = pro.index_weekly(ts_code = stock_code,startdate = startdate, enddate = enddate )\n",
    "        try:\n",
    "            df.to_csv(save_dir + stock_code + \"-\"+ stock_name + '.csv', index = False)\n",
    "        except:\n",
    "            try:\n",
    "                df.to_csv(save_dir + stock_code + '.csv', index = False)\n",
    "            except:\n",
    "                print(\"err: \", stock_name)"
   ]
  },
  {
   "cell_type": "code",
   "execution_count": 6,
   "metadata": {},
   "outputs": [
    {
     "name": "stdout",
     "output_type": "stream",
     "text": [
      "正在获取第1家: 上证指数,代码000001.SH.\n",
      "正在获取第101家: 380公用,代码000113.SH.\n",
      "正在获取第201家: 中证800,代码000906.SH.\n",
      "正在获取第301家: 上证180全收益,代码h00010.SH.\n",
      "正在获取第401家: 消费50全收益,代码h00126.SH.\n",
      "正在获取第501家: 180SNLV全收益,代码h40098.SH.\n"
     ]
    }
   ],
   "source": [
    "# get monthly data\n",
    "startdate = '20010101'\n",
    "# enddate = '20200313'\n",
    "save_dir = \"./data/index/\"+ market + \"/monthly/\"\n",
    "\n",
    "if GET_INDEX:\n",
    "    for i in range(len(pool_df)):\n",
    "        stock_code = pool_df.loc[i,\"ts_code\"]\n",
    "        stock_name = pool_df.loc[i,\"name\"]\n",
    "        if i%100 == 0:\n",
    "            print('正在获取第%d家: %s,代码%s.' % (i+1,stock_name, stock_code))\n",
    "        #接口限制访问200次/分钟，加一点微小的延时防止被ban\n",
    "        time.sleep(0.121)\n",
    "        df = pro.index_monthly(ts_code = stock_code,startdate = startdate, enddate = enddate )\n",
    "        try:\n",
    "            df.to_csv(save_dir + stock_code + \"-\"+ stock_name + '.csv', index = False)\n",
    "        except:\n",
    "            try:\n",
    "                df.to_csv(save_dir + stock_code + '.csv', index = False)\n",
    "            except:\n",
    "                print(\"err: \", stock_name)"
   ]
  }
 ],
 "metadata": {
  "kernelspec": {
   "display_name": "py37-stock",
   "language": "python",
   "name": "py37-stock"
  },
  "language_info": {
   "codemirror_mode": {
    "name": "ipython",
    "version": 3
   },
   "file_extension": ".py",
   "mimetype": "text/x-python",
   "name": "python",
   "nbconvert_exporter": "python",
   "pygments_lexer": "ipython3",
   "version": "3.7.1"
  }
 },
 "nbformat": 4,
 "nbformat_minor": 2
}
