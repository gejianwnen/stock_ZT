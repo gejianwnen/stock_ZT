{
 "cells": [
  {
   "cell_type": "code",
   "execution_count": 1,
   "metadata": {},
   "outputs": [
    {
     "name": "stderr",
     "output_type": "stream",
     "text": [
      "D:\\Users\\admin\\Anaconda3\\envs\\py37-stock\\lib\\site-packages\\mpl_finance.py:22: DeprecationWarning: \n",
      "\n",
      "  =================================================================\n",
      "\n",
      "   WARNING: `mpl_finance` is deprecated:\n",
      "\n",
      "    Please use `mplfinance` instead (no hyphen, no underscore).\n",
      "\n",
      "    To install: `pip install --upgrade mplfinance` \n",
      "\n",
      "   For more information, see: https://pypi.org/project/mplfinance/\n",
      "\n",
      "  =================================================================\n",
      "\n",
      "  category=DeprecationWarning)\n"
     ]
    }
   ],
   "source": [
    "import time\n",
    "import datetime\n",
    "import os\n",
    "import warnings\n",
    "warnings.filterwarnings(\"ignore\")\n",
    "\n",
    "import pandas as pd\n",
    "import numpy as np\n",
    "import tushare as ts\n",
    "ts.set_token('29eaf3bcac23df4c6d025de157ab2d53beead3391fbe6e83b4ebcb6c')\n",
    "pro = ts.pro_api()\n",
    "\n",
    "import mpl_finance as mpf\n",
    "import matplotlib.pyplot as plt\n",
    "from matplotlib import ticker\n",
    "from matplotlib.pylab import date2num\n",
    "import matplotlib.gridspec as gridspec\n",
    "import matplotlib as mpl\n",
    "import seaborn as sns\n",
    "sns.set()\n",
    "mpl.rcParams['font.family'] = 'sans-serif'\n",
    "mpl.rcParams['font.sans-serif'] = 'SimHei'"
   ]
  },
  {
   "cell_type": "code",
   "execution_count": 3,
   "metadata": {},
   "outputs": [],
   "source": [
    "from mylab.stock.myread import getStock\n",
    "from mylab.stock.myread import getIndex\n",
    "from mylab.stock.myread import getIndexBasic\n",
    "from mylab.stock.myread import getStockBasic\n",
    "from mylab.stock.myread import readData\n",
    "from mylab.stock.myread import mergeDailyWeeklyMonthly\n",
    "from mylab.stock.myread import mergeStockIndex\n",
    "from mylab.stock.myread import getIndustry\n",
    "\n",
    "from mylab.stock.myfeature import getMacd\n",
    "from mylab.stock.myfeature import getKdj\n",
    "from mylab.stock.myfeature import getMa\n",
    "\n",
    "from mylab.stock.myplot import plotVol\n",
    "from mylab.stock.myplot import plotCandle\n",
    "from mylab.stock.myplot import plotMacd\n",
    "from mylab.stock.myplot import plotKdj\n",
    "\n",
    "from mylab.stock.my3point import get3Percent\n",
    "from mylab.stock.my3point import plotStock\n",
    "from mylab.stock.my3point import plot3Percent\n",
    "from mylab.stock.my3point import displaySelect"
   ]
  },
  {
   "cell_type": "code",
   "execution_count": 4,
   "metadata": {},
   "outputs": [],
   "source": [
    "SAVE_CSV = True\n",
    "LOCAL = not True\n",
    "\n",
    "GET_DAILY = True\n",
    "SELECT_STOCK = True\n",
    "\n",
    "start_date = \"20160101\"\n",
    "end_date = \"20200413\""
   ]
  },
  {
   "cell_type": "markdown",
   "metadata": {},
   "source": [
    "# get all Stocks Info"
   ]
  },
  {
   "cell_type": "code",
   "execution_count": 5,
   "metadata": {},
   "outputs": [
    {
     "name": "stdout",
     "output_type": "stream",
     "text": [
      "获得上市股票总数： 3796\n"
     ]
    },
    {
     "data": {
      "text/html": [
       "<div>\n",
       "<style scoped>\n",
       "    .dataframe tbody tr th:only-of-type {\n",
       "        vertical-align: middle;\n",
       "    }\n",
       "\n",
       "    .dataframe tbody tr th {\n",
       "        vertical-align: top;\n",
       "    }\n",
       "\n",
       "    .dataframe thead th {\n",
       "        text-align: right;\n",
       "    }\n",
       "</style>\n",
       "<table border=\"1\" class=\"dataframe\">\n",
       "  <thead>\n",
       "    <tr style=\"text-align: right;\">\n",
       "      <th></th>\n",
       "      <th>ts_code</th>\n",
       "      <th>symbol</th>\n",
       "      <th>name</th>\n",
       "      <th>area</th>\n",
       "      <th>industry</th>\n",
       "      <th>market</th>\n",
       "      <th>list_date</th>\n",
       "    </tr>\n",
       "  </thead>\n",
       "  <tbody>\n",
       "    <tr>\n",
       "      <th>0</th>\n",
       "      <td>000001.SZ</td>\n",
       "      <td>1</td>\n",
       "      <td>平安银行</td>\n",
       "      <td>深圳</td>\n",
       "      <td>银行</td>\n",
       "      <td>主板</td>\n",
       "      <td>19910403</td>\n",
       "    </tr>\n",
       "    <tr>\n",
       "      <th>1</th>\n",
       "      <td>000002.SZ</td>\n",
       "      <td>2</td>\n",
       "      <td>万科A</td>\n",
       "      <td>深圳</td>\n",
       "      <td>全国地产</td>\n",
       "      <td>主板</td>\n",
       "      <td>19910129</td>\n",
       "    </tr>\n",
       "    <tr>\n",
       "      <th>2</th>\n",
       "      <td>000004.SZ</td>\n",
       "      <td>4</td>\n",
       "      <td>国农科技</td>\n",
       "      <td>深圳</td>\n",
       "      <td>生物制药</td>\n",
       "      <td>主板</td>\n",
       "      <td>19910114</td>\n",
       "    </tr>\n",
       "    <tr>\n",
       "      <th>3</th>\n",
       "      <td>000005.SZ</td>\n",
       "      <td>5</td>\n",
       "      <td>世纪星源</td>\n",
       "      <td>深圳</td>\n",
       "      <td>环境保护</td>\n",
       "      <td>主板</td>\n",
       "      <td>19901210</td>\n",
       "    </tr>\n",
       "    <tr>\n",
       "      <th>4</th>\n",
       "      <td>000006.SZ</td>\n",
       "      <td>6</td>\n",
       "      <td>深振业A</td>\n",
       "      <td>深圳</td>\n",
       "      <td>区域地产</td>\n",
       "      <td>主板</td>\n",
       "      <td>19920427</td>\n",
       "    </tr>\n",
       "  </tbody>\n",
       "</table>\n",
       "</div>"
      ],
      "text/plain": [
       "     ts_code  symbol  name area industry market  list_date\n",
       "0  000001.SZ       1  平安银行   深圳       银行     主板   19910403\n",
       "1  000002.SZ       2   万科A   深圳     全国地产     主板   19910129\n",
       "2  000004.SZ       4  国农科技   深圳     生物制药     主板   19910114\n",
       "3  000005.SZ       5  世纪星源   深圳     环境保护     主板   19901210\n",
       "4  000006.SZ       6  深振业A   深圳     区域地产     主板   19920427"
      ]
     },
     "execution_count": 5,
     "metadata": {},
     "output_type": "execute_result"
    }
   ],
   "source": [
    "#获取基础信息数据，包括股票代码、名称、上市日期、退市日期等\n",
    "\n",
    "pool_df = getStockBasic(LOCAL = True)\n",
    "# pool_df = pd.read_csv(\"./data/stock/blue_stock_rank_3.csv\" )\n",
    "\n",
    "\n",
    "print('获得上市股票总数：', len(pool_df)-1)\n",
    "pool_df.head()"
   ]
  },
  {
   "cell_type": "markdown",
   "metadata": {},
   "source": [
    "# update all stocks daily"
   ]
  },
  {
   "cell_type": "code",
   "execution_count": 6,
   "metadata": {},
   "outputs": [
    {
     "data": {
      "text/plain": [
       "0"
      ]
     },
     "execution_count": 6,
     "metadata": {},
     "output_type": "execute_result"
    },
    {
     "data": {
      "image/png": "[encoded data removed]",
      "text/plain": [
       "<Figure size 1152x792 with 4 Axes>"
      ]
     },
     "metadata": {},
     "output_type": "display_data"
    }
   ],
   "source": [
    "start_date = \"20190901\"\n",
    "# end_date = \"20200101\"\n",
    "stock_code = \"002497.SZ\"\n",
    "save_dir = \"./output/select_by_3_percent/\"\n",
    "\n",
    "stock_df = getStock(stock_code,start_date, end_date, LOCAL = True)\n",
    "stock_df = get3Percent(stock_df)\n",
    "plotStock(stock_df ,SAVE = False, save_dir =save_dir)"
   ]
  },
  {
   "cell_type": "markdown",
   "metadata": {},
   "source": [
    "# save all stocks in 3% state"
   ]
  },
  {
   "cell_type": "code",
   "execution_count": 7,
   "metadata": {},
   "outputs": [],
   "source": [
    "def selectStockBy3Percent(df):\n",
    "    select_num = np.any( [stock_df.buy_signal.values>0,\n",
    "                          stock_df.sell_signal.values>0 ,\n",
    "                         ],\n",
    "                        axis = 0)   # IF( CROSS(xx,yy) AND xx<20 ,30,0);\n",
    "    select_df = stock_df.loc[select_num,:]\n",
    "    return select_df"
   ]
  },
  {
   "cell_type": "code",
   "execution_count": 8,
   "metadata": {
    "scrolled": true
   },
   "outputs": [
    {
     "name": "stdout",
     "output_type": "stream",
     "text": [
      "002977.SZ 天箭科技 local variable 'daily_df' referenced before assignment\n",
      "300823.SZ 建科机械 local variable 'daily_df' referenced before assignment\n",
      "603221.SH N爱丽 local variable 'daily_df' referenced before assignment\n",
      "688051.SH 佳华科技 local variable 'daily_df' referenced before assignment\n",
      "(4, 68)\n"
     ]
    },
    {
     "data": {
      "text/html": [
       "<div>\n",
       "<style scoped>\n",
       "    .dataframe tbody tr th:only-of-type {\n",
       "        vertical-align: middle;\n",
       "    }\n",
       "\n",
       "    .dataframe tbody tr th {\n",
       "        vertical-align: top;\n",
       "    }\n",
       "\n",
       "    .dataframe thead th {\n",
       "        text-align: right;\n",
       "    }\n",
       "</style>\n",
       "<table border=\"1\" class=\"dataframe\">\n",
       "  <thead>\n",
       "    <tr style=\"text-align: right;\">\n",
       "      <th></th>\n",
       "      <th>pre_index</th>\n",
       "      <th>ts_code</th>\n",
       "      <th>trade_date</th>\n",
       "      <th>open</th>\n",
       "      <th>high</th>\n",
       "      <th>low</th>\n",
       "      <th>close</th>\n",
       "      <th>pre_close</th>\n",
       "      <th>change</th>\n",
       "      <th>pct_chg</th>\n",
       "      <th>...</th>\n",
       "      <th>dea_monthly</th>\n",
       "      <th>macd_monthly</th>\n",
       "      <th>macd_signal_monthly</th>\n",
       "      <th>var</th>\n",
       "      <th>xx</th>\n",
       "      <th>xx1</th>\n",
       "      <th>yy</th>\n",
       "      <th>cross_signal</th>\n",
       "      <th>buy_signal</th>\n",
       "      <th>sell_signal</th>\n",
       "    </tr>\n",
       "  </thead>\n",
       "  <tbody>\n",
       "    <tr>\n",
       "      <th>1</th>\n",
       "      <td>74</td>\n",
       "      <td>688399.SH</td>\n",
       "      <td>20200327</td>\n",
       "      <td>85.58</td>\n",
       "      <td>85.58</td>\n",
       "      <td>80.11</td>\n",
       "      <td>80.11</td>\n",
       "      <td>83.30</td>\n",
       "      <td>-3.19</td>\n",
       "      <td>-3.8295</td>\n",
       "      <td>...</td>\n",
       "      <td>0.732392</td>\n",
       "      <td>0.673391</td>\n",
       "      <td>0.0</td>\n",
       "      <td>30.794424</td>\n",
       "      <td>21.268410</td>\n",
       "      <td>20.208056</td>\n",
       "      <td>19.495105</td>\n",
       "      <td>1.0</td>\n",
       "      <td>0</td>\n",
       "      <td>30</td>\n",
       "    </tr>\n",
       "    <tr>\n",
       "      <th>2</th>\n",
       "      <td>76</td>\n",
       "      <td>688399.SH</td>\n",
       "      <td>20200331</td>\n",
       "      <td>77.97</td>\n",
       "      <td>78.00</td>\n",
       "      <td>74.26</td>\n",
       "      <td>74.89</td>\n",
       "      <td>77.35</td>\n",
       "      <td>-2.46</td>\n",
       "      <td>-3.1803</td>\n",
       "      <td>...</td>\n",
       "      <td>0.732392</td>\n",
       "      <td>0.673391</td>\n",
       "      <td>0.0</td>\n",
       "      <td>10.749076</td>\n",
       "      <td>19.626364</td>\n",
       "      <td>20.614035</td>\n",
       "      <td>20.623235</td>\n",
       "      <td>-1.0</td>\n",
       "      <td>0</td>\n",
       "      <td>30</td>\n",
       "    </tr>\n",
       "    <tr>\n",
       "      <th>3</th>\n",
       "      <td>80</td>\n",
       "      <td>688399.SH</td>\n",
       "      <td>20200407</td>\n",
       "      <td>75.00</td>\n",
       "      <td>78.20</td>\n",
       "      <td>74.68</td>\n",
       "      <td>76.43</td>\n",
       "      <td>73.74</td>\n",
       "      <td>2.69</td>\n",
       "      <td>3.6480</td>\n",
       "      <td>...</td>\n",
       "      <td>0.732392</td>\n",
       "      <td>0.673391</td>\n",
       "      <td>0.0</td>\n",
       "      <td>20.812476</td>\n",
       "      <td>16.364636</td>\n",
       "      <td>15.870078</td>\n",
       "      <td>16.148617</td>\n",
       "      <td>0.0</td>\n",
       "      <td>30</td>\n",
       "      <td>0</td>\n",
       "    </tr>\n",
       "    <tr>\n",
       "      <th>4</th>\n",
       "      <td>83</td>\n",
       "      <td>688399.SH</td>\n",
       "      <td>20200410</td>\n",
       "      <td>78.31</td>\n",
       "      <td>81.48</td>\n",
       "      <td>77.83</td>\n",
       "      <td>79.79</td>\n",
       "      <td>77.70</td>\n",
       "      <td>2.09</td>\n",
       "      <td>2.6898</td>\n",
       "      <td>...</td>\n",
       "      <td>0.732392</td>\n",
       "      <td>0.673391</td>\n",
       "      <td>0.0</td>\n",
       "      <td>33.471313</td>\n",
       "      <td>20.232953</td>\n",
       "      <td>18.761363</td>\n",
       "      <td>18.183799</td>\n",
       "      <td>1.0</td>\n",
       "      <td>0</td>\n",
       "      <td>30</td>\n",
       "    </tr>\n",
       "  </tbody>\n",
       "</table>\n",
       "<p>4 rows × 68 columns</p>\n",
       "</div>"
      ],
      "text/plain": [
       "   pre_index    ts_code trade_date   open   high    low  close  pre_close  \\\n",
       "1         74  688399.SH   20200327  85.58  85.58  80.11  80.11      83.30   \n",
       "2         76  688399.SH   20200331  77.97  78.00  74.26  74.89      77.35   \n",
       "3         80  688399.SH   20200407  75.00  78.20  74.68  76.43      73.74   \n",
       "4         83  688399.SH   20200410  78.31  81.48  77.83  79.79      77.70   \n",
       "\n",
       "   change  pct_chg  ...  dea_monthly  macd_monthly  macd_signal_monthly  \\\n",
       "1   -3.19  -3.8295  ...     0.732392      0.673391                  0.0   \n",
       "2   -2.46  -3.1803  ...     0.732392      0.673391                  0.0   \n",
       "3    2.69   3.6480  ...     0.732392      0.673391                  0.0   \n",
       "4    2.09   2.6898  ...     0.732392      0.673391                  0.0   \n",
       "\n",
       "         var         xx        xx1         yy  cross_signal  buy_signal  \\\n",
       "1  30.794424  21.268410  20.208056  19.495105           1.0           0   \n",
       "2  10.749076  19.626364  20.614035  20.623235          -1.0           0   \n",
       "3  20.812476  16.364636  15.870078  16.148617           0.0          30   \n",
       "4  33.471313  20.232953  18.761363  18.183799           1.0           0   \n",
       "\n",
       "   sell_signal  \n",
       "1           30  \n",
       "2           30  \n",
       "3            0  \n",
       "4           30  \n",
       "\n",
       "[4 rows x 68 columns]"
      ]
     },
     "execution_count": 8,
     "metadata": {},
     "output_type": "execute_result"
    }
   ],
   "source": [
    "start_date = \"20100101\"\n",
    "# end_date = \"20200101\"\n",
    "stock_code = \"002497.SZ\"\n",
    "save_dir = \"./output/select_by_3_percent/all_3_percent/\"\n",
    "\n",
    "for i in range(len(pool_df)):  # len(pool_df)\n",
    "    stock_code = pool_df.loc[i,\"ts_code\"]\n",
    "    stock_name = pool_df.loc[i,\"name\"]\n",
    "    try:\n",
    "        stock_df = getStock(stock_code,start_date, end_date, LOCAL = True)\n",
    "        stock_df = get3Percent(stock_df)\n",
    "        select_df = selectStockBy3Percent(stock_df )  # stock  \n",
    "        select_df = select_df.reset_index()\n",
    "        select_df = select_df.loc[1:,:]\n",
    "        select_df.rename(columns = {\"index\":\"pre_index\"}, inplace = True)\n",
    "        select_df.to_csv(save_dir+stock_code+\".csv\", index = False)\n",
    "    except Exception as err:\n",
    "        print(stock_code,stock_name,err)\n",
    "    \n",
    "print(select_df.shape)\n",
    "select_df.head()"
   ]
  },
  {
   "cell_type": "markdown",
   "metadata": {},
   "source": [
    "# evaluate the result"
   ]
  },
  {
   "cell_type": "code",
   "execution_count": 11,
   "metadata": {},
   "outputs": [
    {
     "name": "stdout",
     "output_type": "stream",
     "text": [
      "002977.SZ 天箭科技 [Errno 2] File ./output/select_by_3_percent/all_3_percent/002977.SZ.csv does not exist: './output/select_by_3_percent/all_3_percent/002977.SZ.csv'\n",
      "300823.SZ 建科机械 [Errno 2] File ./output/select_by_3_percent/all_3_percent/300823.SZ.csv does not exist: './output/select_by_3_percent/all_3_percent/300823.SZ.csv'\n",
      "603221.SH N爱丽 [Errno 2] File ./output/select_by_3_percent/all_3_percent/603221.SH.csv does not exist: './output/select_by_3_percent/all_3_percent/603221.SH.csv'\n",
      "688051.SH 佳华科技 [Errno 2] File ./output/select_by_3_percent/all_3_percent/688051.SH.csv does not exist: './output/select_by_3_percent/all_3_percent/688051.SH.csv'\n",
      "(4, 73)\n"
     ]
    },
    {
     "data": {
      "text/html": [
       "<div>\n",
       "<style scoped>\n",
       "    .dataframe tbody tr th:only-of-type {\n",
       "        vertical-align: middle;\n",
       "    }\n",
       "\n",
       "    .dataframe tbody tr th {\n",
       "        vertical-align: top;\n",
       "    }\n",
       "\n",
       "    .dataframe thead th {\n",
       "        text-align: right;\n",
       "    }\n",
       "</style>\n",
       "<table border=\"1\" class=\"dataframe\">\n",
       "  <thead>\n",
       "    <tr style=\"text-align: right;\">\n",
       "      <th></th>\n",
       "      <th>pre_index</th>\n",
       "      <th>ts_code</th>\n",
       "      <th>trade_date</th>\n",
       "      <th>open</th>\n",
       "      <th>high</th>\n",
       "      <th>low</th>\n",
       "      <th>close</th>\n",
       "      <th>pre_close</th>\n",
       "      <th>change</th>\n",
       "      <th>pct_chg</th>\n",
       "      <th>...</th>\n",
       "      <th>xx1</th>\n",
       "      <th>yy</th>\n",
       "      <th>cross_signal</th>\n",
       "      <th>buy_signal</th>\n",
       "      <th>sell_signal</th>\n",
       "      <th>hold_period</th>\n",
       "      <th>earn_rate</th>\n",
       "      <th>earn_rate_max</th>\n",
       "      <th>earn_rate_per_day</th>\n",
       "      <th>win</th>\n",
       "    </tr>\n",
       "  </thead>\n",
       "  <tbody>\n",
       "    <tr>\n",
       "      <th>0</th>\n",
       "      <td>74</td>\n",
       "      <td>688399.SH</td>\n",
       "      <td>20200327</td>\n",
       "      <td>85.58</td>\n",
       "      <td>85.58</td>\n",
       "      <td>80.11</td>\n",
       "      <td>80.11</td>\n",
       "      <td>83.30</td>\n",
       "      <td>-3.19</td>\n",
       "      <td>-3.8295</td>\n",
       "      <td>...</td>\n",
       "      <td>20.208056</td>\n",
       "      <td>19.495105</td>\n",
       "      <td>1.0</td>\n",
       "      <td>0</td>\n",
       "      <td>30</td>\n",
       "      <td>NaN</td>\n",
       "      <td>NaN</td>\n",
       "      <td>NaN</td>\n",
       "      <td>NaN</td>\n",
       "      <td>False</td>\n",
       "    </tr>\n",
       "    <tr>\n",
       "      <th>1</th>\n",
       "      <td>76</td>\n",
       "      <td>688399.SH</td>\n",
       "      <td>20200331</td>\n",
       "      <td>77.97</td>\n",
       "      <td>78.00</td>\n",
       "      <td>74.26</td>\n",
       "      <td>74.89</td>\n",
       "      <td>77.35</td>\n",
       "      <td>-2.46</td>\n",
       "      <td>-3.1803</td>\n",
       "      <td>...</td>\n",
       "      <td>20.614035</td>\n",
       "      <td>20.623235</td>\n",
       "      <td>-1.0</td>\n",
       "      <td>0</td>\n",
       "      <td>30</td>\n",
       "      <td>NaN</td>\n",
       "      <td>NaN</td>\n",
       "      <td>NaN</td>\n",
       "      <td>NaN</td>\n",
       "      <td>False</td>\n",
       "    </tr>\n",
       "    <tr>\n",
       "      <th>2</th>\n",
       "      <td>80</td>\n",
       "      <td>688399.SH</td>\n",
       "      <td>20200407</td>\n",
       "      <td>75.00</td>\n",
       "      <td>78.20</td>\n",
       "      <td>74.68</td>\n",
       "      <td>76.43</td>\n",
       "      <td>73.74</td>\n",
       "      <td>2.69</td>\n",
       "      <td>3.6480</td>\n",
       "      <td>...</td>\n",
       "      <td>15.870078</td>\n",
       "      <td>16.148617</td>\n",
       "      <td>0.0</td>\n",
       "      <td>30</td>\n",
       "      <td>0</td>\n",
       "      <td>4.0</td>\n",
       "      <td>4.39618</td>\n",
       "      <td>6.607353</td>\n",
       "      <td>1.099045</td>\n",
       "      <td>True</td>\n",
       "    </tr>\n",
       "    <tr>\n",
       "      <th>3</th>\n",
       "      <td>83</td>\n",
       "      <td>688399.SH</td>\n",
       "      <td>20200410</td>\n",
       "      <td>78.31</td>\n",
       "      <td>81.48</td>\n",
       "      <td>77.83</td>\n",
       "      <td>79.79</td>\n",
       "      <td>77.70</td>\n",
       "      <td>2.09</td>\n",
       "      <td>2.6898</td>\n",
       "      <td>...</td>\n",
       "      <td>18.761363</td>\n",
       "      <td>18.183799</td>\n",
       "      <td>1.0</td>\n",
       "      <td>0</td>\n",
       "      <td>30</td>\n",
       "      <td>NaN</td>\n",
       "      <td>NaN</td>\n",
       "      <td>NaN</td>\n",
       "      <td>NaN</td>\n",
       "      <td>False</td>\n",
       "    </tr>\n",
       "  </tbody>\n",
       "</table>\n",
       "<p>4 rows × 73 columns</p>\n",
       "</div>"
      ],
      "text/plain": [
       "   pre_index    ts_code  trade_date   open   high    low  close  pre_close  \\\n",
       "0         74  688399.SH    20200327  85.58  85.58  80.11  80.11      83.30   \n",
       "1         76  688399.SH    20200331  77.97  78.00  74.26  74.89      77.35   \n",
       "2         80  688399.SH    20200407  75.00  78.20  74.68  76.43      73.74   \n",
       "3         83  688399.SH    20200410  78.31  81.48  77.83  79.79      77.70   \n",
       "\n",
       "   change  pct_chg  ...        xx1         yy  cross_signal  buy_signal  \\\n",
       "0   -3.19  -3.8295  ...  20.208056  19.495105           1.0           0   \n",
       "1   -2.46  -3.1803  ...  20.614035  20.623235          -1.0           0   \n",
       "2    2.69   3.6480  ...  15.870078  16.148617           0.0          30   \n",
       "3    2.09   2.6898  ...  18.761363  18.183799           1.0           0   \n",
       "\n",
       "   sell_signal  hold_period  earn_rate  earn_rate_max  earn_rate_per_day  \\\n",
       "0           30          NaN        NaN            NaN                NaN   \n",
       "1           30          NaN        NaN            NaN                NaN   \n",
       "2            0          4.0    4.39618       6.607353           1.099045   \n",
       "3           30          NaN        NaN            NaN                NaN   \n",
       "\n",
       "     win  \n",
       "0  False  \n",
       "1  False  \n",
       "2   True  \n",
       "3  False  \n",
       "\n",
       "[4 rows x 73 columns]"
      ]
     },
     "execution_count": 11,
     "metadata": {},
     "output_type": "execute_result"
    }
   ],
   "source": [
    "for i in range(len(pool_df)):  # len(pool_df)\n",
    "    stock_code = pool_df.loc[i,\"ts_code\"]\n",
    "    stock_name = pool_df.loc[i,\"name\"]\n",
    "    try:\n",
    "        stock_df = pd.read_csv(save_dir+stock_code+\".csv\")\n",
    "        stock_df[\"hold_period\"] = np.nan\n",
    "        stock_df[\"earn_rate\"] = np.nan \n",
    "        stock_df[\"earn_rate_max\"] = np.nan \n",
    "        for i in range(len(stock_df)):\n",
    "            if stock_df.buy_signal.values[i] > 0:\n",
    "                for j in range(i,len(stock_df)):\n",
    "                    if stock_df.sell_signal.values[j] > 0:\n",
    "                        stock_df[\"earn_rate\"][i] = (stock_df.close.values[j]-stock_df.close.values[i])/stock_df.close.values[i]*100\n",
    "                        stock_df[\"earn_rate_max\"][i] = (stock_df.high.values[j]-stock_df.close.values[i])/stock_df.close.values[i]*100\n",
    "                        stock_df[\"hold_period\"][i] = (stock_df.pre_index.values[j]-stock_df.pre_index.values[i]) + 1\n",
    "                        \n",
    "                        break\n",
    "        stock_df[\"earn_rate_per_day\"] = stock_df[\"earn_rate\"]/stock_df[\"hold_period\"]\n",
    "        stock_df[\"win\"] = stock_df[\"earn_rate\"] > 0\n",
    "        stock_df.to_csv(save_dir+stock_code+\".csv\", index = False)\n",
    "    except Exception as err:\n",
    "        print(stock_code,stock_name,err)\n",
    "print(stock_df.shape)\n",
    "stock_df.head()"
   ]
  },
  {
   "cell_type": "code",
   "execution_count": 17,
   "metadata": {
    "scrolled": true
   },
   "outputs": [
    {
     "name": "stdout",
     "output_type": "stream",
     "text": [
      "002977.SZ 天箭科技 [Errno 2] File ./output/select_by_3_percent/all_3_percent/002977.SZ.csv does not exist: './output/select_by_3_percent/all_3_percent/002977.SZ.csv'\n",
      "300823.SZ 建科机械 [Errno 2] File ./output/select_by_3_percent/all_3_percent/300823.SZ.csv does not exist: './output/select_by_3_percent/all_3_percent/300823.SZ.csv'\n",
      "603221.SH N爱丽 [Errno 2] File ./output/select_by_3_percent/all_3_percent/603221.SH.csv does not exist: './output/select_by_3_percent/all_3_percent/603221.SH.csv'\n",
      "688051.SH 佳华科技 [Errno 2] File ./output/select_by_3_percent/all_3_percent/688051.SH.csv does not exist: './output/select_by_3_percent/all_3_percent/688051.SH.csv'\n",
      "(3797, 12)\n"
     ]
    },
    {
     "data": {
      "text/html": [
       "<div>\n",
       "<style scoped>\n",
       "    .dataframe tbody tr th:only-of-type {\n",
       "        vertical-align: middle;\n",
       "    }\n",
       "\n",
       "    .dataframe tbody tr th {\n",
       "        vertical-align: top;\n",
       "    }\n",
       "\n",
       "    .dataframe thead th {\n",
       "        text-align: right;\n",
       "    }\n",
       "</style>\n",
       "<table border=\"1\" class=\"dataframe\">\n",
       "  <thead>\n",
       "    <tr style=\"text-align: right;\">\n",
       "      <th></th>\n",
       "      <th>ts_code</th>\n",
       "      <th>symbol</th>\n",
       "      <th>name</th>\n",
       "      <th>area</th>\n",
       "      <th>industry</th>\n",
       "      <th>market</th>\n",
       "      <th>list_date</th>\n",
       "      <th>win_rate</th>\n",
       "      <th>earn_rate_per_day</th>\n",
       "      <th>earn_rate</th>\n",
       "      <th>hold_period</th>\n",
       "      <th>num_3_percent</th>\n",
       "    </tr>\n",
       "  </thead>\n",
       "  <tbody>\n",
       "    <tr>\n",
       "      <th>0</th>\n",
       "      <td>000001.SZ</td>\n",
       "      <td>1</td>\n",
       "      <td>平安银行</td>\n",
       "      <td>深圳</td>\n",
       "      <td>银行</td>\n",
       "      <td>主板</td>\n",
       "      <td>19910403</td>\n",
       "      <td>0.403846</td>\n",
       "      <td>-0.011768</td>\n",
       "      <td>0.214651</td>\n",
       "      <td>3.826923</td>\n",
       "      <td>52.0</td>\n",
       "    </tr>\n",
       "    <tr>\n",
       "      <th>1</th>\n",
       "      <td>000002.SZ</td>\n",
       "      <td>2</td>\n",
       "      <td>万科A</td>\n",
       "      <td>深圳</td>\n",
       "      <td>全国地产</td>\n",
       "      <td>主板</td>\n",
       "      <td>19910129</td>\n",
       "      <td>0.535714</td>\n",
       "      <td>0.238760</td>\n",
       "      <td>0.882616</td>\n",
       "      <td>4.321429</td>\n",
       "      <td>28.0</td>\n",
       "    </tr>\n",
       "    <tr>\n",
       "      <th>2</th>\n",
       "      <td>000004.SZ</td>\n",
       "      <td>4</td>\n",
       "      <td>国农科技</td>\n",
       "      <td>深圳</td>\n",
       "      <td>生物制药</td>\n",
       "      <td>主板</td>\n",
       "      <td>19910114</td>\n",
       "      <td>0.578947</td>\n",
       "      <td>0.086952</td>\n",
       "      <td>1.636463</td>\n",
       "      <td>5.894737</td>\n",
       "      <td>19.0</td>\n",
       "    </tr>\n",
       "    <tr>\n",
       "      <th>3</th>\n",
       "      <td>000005.SZ</td>\n",
       "      <td>5</td>\n",
       "      <td>世纪星源</td>\n",
       "      <td>深圳</td>\n",
       "      <td>环境保护</td>\n",
       "      <td>主板</td>\n",
       "      <td>19901210</td>\n",
       "      <td>0.367347</td>\n",
       "      <td>-0.045272</td>\n",
       "      <td>-0.007705</td>\n",
       "      <td>4.816327</td>\n",
       "      <td>49.0</td>\n",
       "    </tr>\n",
       "    <tr>\n",
       "      <th>4</th>\n",
       "      <td>000006.SZ</td>\n",
       "      <td>6</td>\n",
       "      <td>深振业A</td>\n",
       "      <td>深圳</td>\n",
       "      <td>区域地产</td>\n",
       "      <td>主板</td>\n",
       "      <td>19920427</td>\n",
       "      <td>0.485714</td>\n",
       "      <td>-0.129481</td>\n",
       "      <td>-0.324987</td>\n",
       "      <td>5.028571</td>\n",
       "      <td>35.0</td>\n",
       "    </tr>\n",
       "  </tbody>\n",
       "</table>\n",
       "</div>"
      ],
      "text/plain": [
       "     ts_code  symbol  name area industry market  list_date  win_rate  \\\n",
       "0  000001.SZ       1  平安银行   深圳       银行     主板   19910403  0.403846   \n",
       "1  000002.SZ       2   万科A   深圳     全国地产     主板   19910129  0.535714   \n",
       "2  000004.SZ       4  国农科技   深圳     生物制药     主板   19910114  0.578947   \n",
       "3  000005.SZ       5  世纪星源   深圳     环境保护     主板   19901210  0.367347   \n",
       "4  000006.SZ       6  深振业A   深圳     区域地产     主板   19920427  0.485714   \n",
       "\n",
       "   earn_rate_per_day  earn_rate  hold_period  num_3_percent  \n",
       "0          -0.011768   0.214651     3.826923           52.0  \n",
       "1           0.238760   0.882616     4.321429           28.0  \n",
       "2           0.086952   1.636463     5.894737           19.0  \n",
       "3          -0.045272  -0.007705     4.816327           49.0  \n",
       "4          -0.129481  -0.324987     5.028571           35.0  "
      ]
     },
     "execution_count": 17,
     "metadata": {},
     "output_type": "execute_result"
    }
   ],
   "source": [
    "all_df = pool_df.copy(deep = True)\n",
    "all_df[\"win_rate\"] = np.nan\n",
    "all_df[\"earn_rate_per_day\"] = np.nan\n",
    "all_df[\"earn_rate\"] = np.nan\n",
    "all_df[\"hold_period\"] = np.nan\n",
    "all_df[\"num_3_percent\"] = np.nan\n",
    "\n",
    "for i in range(len(pool_df)):  # len(pool_df)\n",
    "    stock_code = pool_df.loc[i,\"ts_code\"]\n",
    "    stock_name = pool_df.loc[i,\"name\"]\n",
    "    try:\n",
    "        stock_df = pd.read_csv(save_dir+stock_code+\".csv\")\n",
    "        stock_df = stock_df.loc[stock_df.buy_signal.values>0,:]\n",
    "        if len(stock_df) > 10 :\n",
    "            all_df[\"win_rate\"][i]  = sum(stock_df[\"win\"].values)/len(stock_df)\n",
    "            all_df[\"earn_rate_per_day\"][i]  = sum(stock_df[\"earn_rate_per_day\"].values)/len(stock_df)\n",
    "            all_df[\"earn_rate\"][i]  = sum(stock_df[\"earn_rate\"].values)/len(stock_df)\n",
    "            all_df[\"hold_period\"][i]  = sum(stock_df[\"hold_period\"].values)/len(stock_df)\n",
    "            all_df[\"num_3_percent\"][i] = len(stock_df)\n",
    "       \n",
    "    except Exception as err:\n",
    "        print(stock_code,stock_name,err)\n",
    "\n",
    "all_df.to_csv(\"./output/\"+\"stocks_statistic_analyse.csv\", index = False)\n",
    "print(all_df.shape)\n",
    "all_df.head()"
   ]
  },
  {
   "cell_type": "code",
   "execution_count": 23,
   "metadata": {},
   "outputs": [
    {
     "data": {
      "text/plain": [
       "<matplotlib.axes._subplots.AxesSubplot at 0x201401d1f60>"
      ]
     },
     "execution_count": 23,
     "metadata": {},
     "output_type": "execute_result"
    },
    {
     "data": {
      "image/png": "[encoded data removed]",
      "text/plain": [
       "<Figure size 432x288 with 1 Axes>"
      ]
     },
     "metadata": {},
     "output_type": "display_data"
    }
   ],
   "source": [
    "all_df = pd.read_csv(\"./output/\"+\"stocks_statistic_analyse.csv\")\n",
    "# all_df = all_df.loc[all_df[\"hold_period\"].values < 12,:]\n",
    "all_df.earn_rate.hist(bins = 20)"
   ]
  },
  {
   "cell_type": "code",
   "execution_count": 64,
   "metadata": {},
   "outputs": [
    {
     "name": "stdout",
     "output_type": "stream",
     "text": [
      "(824, 12)\n"
     ]
    },
    {
     "data": {
      "text/plain": [
       "<matplotlib.axes._subplots.AxesSubplot at 0x1852db66c18>"
      ]
     },
     "execution_count": 64,
     "metadata": {},
     "output_type": "execute_result"
    },
    {
     "data": {
      "image/png": "[encoded data removed]",
      "text/plain": [
       "<Figure size 432x288 with 1 Axes>"
      ]
     },
     "metadata": {},
     "output_type": "display_data"
    }
   ],
   "source": [
    "all_df = pd.read_csv(\"./output/\"+\"stocks_statistic_analyse.csv\")\n",
    "# earn_rate_per_day earn_rate hold_period num_3_percent\n",
    "all_df = all_df.loc[all_df[\"win_rate\"].values > 0.5,:]\n",
    "all_df = all_df.loc[all_df[\"earn_rate_per_day\"].values > 0.3,:]\n",
    "all_df = all_df.loc[all_df[\"earn_rate\"].values > 1,:]\n",
    "all_df = all_df.loc[all_df[\"hold_period\"].values < 12,:]\n",
    "all_df = all_df.loc[all_df[\"num_3_percent\"].values > 30,:]\n",
    "all_df.to_csv(\"./output/\"+\"stocks_statistic_analyse_rank1.csv\", index = False)\n",
    "print(all_df.shape)\n",
    "all_df.hold_period.hist(bins = 20)"
   ]
  },
  {
   "cell_type": "code",
   "execution_count": 62,
   "metadata": {},
   "outputs": [
    {
     "name": "stdout",
     "output_type": "stream",
     "text": [
      "(289, 12)\n"
     ]
    },
    {
     "data": {
      "text/plain": [
       "<matplotlib.axes._subplots.AxesSubplot at 0x1852d9c8ba8>"
      ]
     },
     "execution_count": 62,
     "metadata": {},
     "output_type": "execute_result"
    },
    {
     "data": {
      "image/png": "[encoded data removed]",
      "text/plain": [
       "<Figure size 432x288 with 1 Axes>"
      ]
     },
     "metadata": {},
     "output_type": "display_data"
    }
   ],
   "source": [
    "all_df = pd.read_csv(\"./output/\"+\"stocks_statistic_analyse.csv\")\n",
    "# earn_rate_per_day earn_rate hold_period num_3_percent\n",
    "all_df = all_df.loc[all_df[\"win_rate\"].values > 0.6,:]\n",
    "all_df = all_df.loc[all_df[\"earn_rate_per_day\"].values > 0.4,:]\n",
    "all_df = all_df.loc[all_df[\"earn_rate\"].values > 2,:]\n",
    "all_df = all_df.loc[all_df[\"hold_period\"].values < 10,:]\n",
    "all_df = all_df.loc[all_df[\"num_3_percent\"].values > 25,:]\n",
    "# all_df = all_df.loc[all_df[\"num_3_percent\"].values < 50,:]\n",
    "all_df.to_csv(\"./output/\"+\"stocks_statistic_analyse_rank2.csv\", index = False)\n",
    "print(all_df.shape)\n",
    "all_df.earn_rate_per_day.hist(bins = 20)"
   ]
  },
  {
   "cell_type": "code",
   "execution_count": 63,
   "metadata": {},
   "outputs": [
    {
     "name": "stdout",
     "output_type": "stream",
     "text": [
      "(117, 12)\n"
     ]
    },
    {
     "data": {
      "text/plain": [
       "<matplotlib.axes._subplots.AxesSubplot at 0x1852da67208>"
      ]
     },
     "execution_count": 63,
     "metadata": {},
     "output_type": "execute_result"
    },
    {
     "data": {
      "image/png": "[encoded data removed]",
      "text/plain": [
       "<Figure size 432x288 with 1 Axes>"
      ]
     },
     "metadata": {},
     "output_type": "display_data"
    }
   ],
   "source": [
    "all_df = pd.read_csv(\"./output/\"+\"stocks_statistic_analyse.csv\")\n",
    "# earn_rate_per_day earn_rate hold_period num_3_percent\n",
    "all_df = all_df.loc[all_df[\"win_rate\"].values > 0.7,:]\n",
    "all_df = all_df.loc[all_df[\"earn_rate_per_day\"].values > 0.5,:]\n",
    "all_df = all_df.loc[all_df[\"earn_rate\"].values > 3,:]\n",
    "all_df = all_df.loc[all_df[\"hold_period\"].values < 10,:]\n",
    "all_df = all_df.loc[all_df[\"num_3_percent\"].values > 25,:]\n",
    "# all_df = all_df.loc[all_df[\"num_3_percent\"].values < 50,:]\n",
    "all_df.to_csv(\"./output/\"+\"stocks_statistic_analyse_rank3.csv\", index = False)\n",
    "print(all_df.shape)\n",
    "all_df.hold_period.hist(bins = 20)"
   ]
  },
  {
   "cell_type": "markdown",
   "metadata": {},
   "source": [
    "# select stocks by 3 percent"
   ]
  },
  {
   "cell_type": "code",
   "execution_count": 7,
   "metadata": {
    "scrolled": true
   },
   "outputs": [
    {
     "name": "stdout",
     "output_type": "stream",
     "text": [
      "num of err： 0\n",
      "(1, 67)\n",
      "end date:  20200410\n",
      "(0, 67)\n"
     ]
    },
    {
     "data": {
      "text/html": [
       "<div>\n",
       "<style scoped>\n",
       "    .dataframe tbody tr th:only-of-type {\n",
       "        vertical-align: middle;\n",
       "    }\n",
       "\n",
       "    .dataframe tbody tr th {\n",
       "        vertical-align: top;\n",
       "    }\n",
       "\n",
       "    .dataframe thead th {\n",
       "        text-align: right;\n",
       "    }\n",
       "</style>\n",
       "<table border=\"1\" class=\"dataframe\">\n",
       "  <thead>\n",
       "    <tr style=\"text-align: right;\">\n",
       "      <th></th>\n",
       "      <th>ts_code</th>\n",
       "      <th>trade_date</th>\n",
       "      <th>open</th>\n",
       "      <th>high</th>\n",
       "      <th>low</th>\n",
       "      <th>close</th>\n",
       "      <th>pre_close</th>\n",
       "      <th>change</th>\n",
       "      <th>pct_chg</th>\n",
       "      <th>vol</th>\n",
       "      <th>...</th>\n",
       "      <th>dea_monthly</th>\n",
       "      <th>macd_monthly</th>\n",
       "      <th>macd_signal_monthly</th>\n",
       "      <th>var</th>\n",
       "      <th>xx</th>\n",
       "      <th>xx1</th>\n",
       "      <th>yy</th>\n",
       "      <th>cross_signal</th>\n",
       "      <th>buy_signal</th>\n",
       "      <th>sell_signal</th>\n",
       "    </tr>\n",
       "  </thead>\n",
       "  <tbody>\n",
       "  </tbody>\n",
       "</table>\n",
       "<p>0 rows × 67 columns</p>\n",
       "</div>"
      ],
      "text/plain": [
       "Empty DataFrame\n",
       "Columns: [ts_code, trade_date, open, high, low, close, pre_close, change, pct_chg, vol, amount, trade_date_stamp, K, D, J, kdj_signal, sema, lema, dif, dea, macd, macd_signal, close_weekly, open_weekly, high_weekly, low_weekly, pre_close_weekly, change_weekly, pct_chg_weekly, vol_weekly, amount_weekly, K_weekly, D_weekly, J_weekly, kdj_signal_weekly, sema_weekly, lema_weekly, dif_weekly, dea_weekly, macd_weekly, macd_signal_weekly, close_monthly, open_monthly, high_monthly, low_monthly, pre_close_monthly, change_monthly, pct_chg_monthly, vol_monthly, amount_monthly, K_monthly, D_monthly, J_monthly, kdj_signal_monthly, sema_monthly, lema_monthly, dif_monthly, dea_monthly, macd_monthly, macd_signal_monthly, var, xx, xx1, yy, cross_signal, buy_signal, sell_signal]\n",
       "Index: []\n",
       "\n",
       "[0 rows x 67 columns]"
      ]
     },
     "execution_count": 7,
     "metadata": {},
     "output_type": "execute_result"
    }
   ],
   "source": [
    "start_date = \"20191201\"\n",
    "# end_date = \"20200323\"\n",
    "\n",
    "all_select_df = pd.DataFrame()\n",
    "err_num = 0\n",
    "for i in range(2):  # len(pool_df)\n",
    "    stock_code = pool_df.loc[i,\"ts_code\"]\n",
    "    stock_name = pool_df.loc[i,\"name\"]\n",
    "    if stock_code[0] == \"0\":\n",
    "        try:\n",
    "            stock_df = getStock(stock_code,start_date, end_date, LOCAL = True)\n",
    "            stock_df = get3Percent(stock_df)\n",
    "            select_df = selectStockBy3Percent(stock_df )  # stock         \n",
    "        except:\n",
    "            err_num = err_num +1\n",
    "            pass\n",
    "        if len(select_df) > 0:  \n",
    "            all_select_df  = pd.concat([all_select_df,select_df],axis = 0)\n",
    "print(\"num of err：\",err_num)\n",
    "all_select_df.to_csv(\"./output/\"+\"stock_selected_by_3_percent.csv\", index = False)\n",
    "print(all_select_df.shape)\n",
    "print(\"end date: \",end_date)\n",
    "all_select_df = all_select_df.loc[all_select_df[\"trade_date\"] == end_date,:]\n",
    "stocks_code = all_select_df.ts_code.values\n",
    "print(all_select_df.shape)\n",
    "all_select_df.head()"
   ]
  },
  {
   "cell_type": "code",
   "execution_count": 8,
   "metadata": {},
   "outputs": [
    {
     "name": "stdout",
     "output_type": "stream",
     "text": [
      "(1, 67)\n",
      "end date:  20200410\n",
      "(1, 67)\n"
     ]
    },
    {
     "data": {
      "text/html": [
       "<div>\n",
       "<style scoped>\n",
       "    .dataframe tbody tr th:only-of-type {\n",
       "        vertical-align: middle;\n",
       "    }\n",
       "\n",
       "    .dataframe tbody tr th {\n",
       "        vertical-align: top;\n",
       "    }\n",
       "\n",
       "    .dataframe thead th {\n",
       "        text-align: right;\n",
       "    }\n",
       "</style>\n",
       "<table border=\"1\" class=\"dataframe\">\n",
       "  <thead>\n",
       "    <tr style=\"text-align: right;\">\n",
       "      <th></th>\n",
       "      <th>ts_code</th>\n",
       "      <th>trade_date</th>\n",
       "      <th>open</th>\n",
       "      <th>high</th>\n",
       "      <th>low</th>\n",
       "      <th>close</th>\n",
       "      <th>pre_close</th>\n",
       "      <th>change</th>\n",
       "      <th>pct_chg</th>\n",
       "      <th>vol</th>\n",
       "      <th>...</th>\n",
       "      <th>dea_monthly</th>\n",
       "      <th>macd_monthly</th>\n",
       "      <th>macd_signal_monthly</th>\n",
       "      <th>var</th>\n",
       "      <th>xx</th>\n",
       "      <th>xx1</th>\n",
       "      <th>yy</th>\n",
       "      <th>cross_signal</th>\n",
       "      <th>buy_signal</th>\n",
       "      <th>sell_signal</th>\n",
       "    </tr>\n",
       "  </thead>\n",
       "  <tbody>\n",
       "    <tr>\n",
       "      <th>0</th>\n",
       "      <td>000001.SZ</td>\n",
       "      <td>20200325</td>\n",
       "      <td>12.88</td>\n",
       "      <td>13.07</td>\n",
       "      <td>12.7</td>\n",
       "      <td>12.87</td>\n",
       "      <td>12.61</td>\n",
       "      <td>0.26</td>\n",
       "      <td>2.0619</td>\n",
       "      <td>1136957.74</td>\n",
       "      <td>...</td>\n",
       "      <td>-0.030573</td>\n",
       "      <td>-0.055384</td>\n",
       "      <td>0.0</td>\n",
       "      <td>25.393701</td>\n",
       "      <td>17.482653</td>\n",
       "      <td>16.602289</td>\n",
       "      <td>16.614133</td>\n",
       "      <td>0.0</td>\n",
       "      <td>30</td>\n",
       "      <td>0</td>\n",
       "    </tr>\n",
       "  </tbody>\n",
       "</table>\n",
       "<p>1 rows × 67 columns</p>\n",
       "</div>"
      ],
      "text/plain": [
       "     ts_code trade_date   open   high   low  close  pre_close  change  \\\n",
       "0  000001.SZ   20200325  12.88  13.07  12.7  12.87      12.61    0.26   \n",
       "\n",
       "   pct_chg         vol  ...  dea_monthly  macd_monthly  macd_signal_monthly  \\\n",
       "0   2.0619  1136957.74  ...    -0.030573     -0.055384                  0.0   \n",
       "\n",
       "         var         xx        xx1         yy  cross_signal  buy_signal  \\\n",
       "0  25.393701  17.482653  16.602289  16.614133           0.0          30   \n",
       "\n",
       "   sell_signal  \n",
       "0            0  \n",
       "\n",
       "[1 rows x 67 columns]"
      ]
     },
     "execution_count": 8,
     "metadata": {},
     "output_type": "execute_result"
    }
   ],
   "source": [
    "# all_select_df.to_csv(\"./output/\"+\"stock_selected_by_3_percent.csv\", index = False)\n",
    "all_select_df = pd.read_csv(\"./output/\"+\"stock_selected_by_3_percent.csv\")\n",
    "all_select_df[\"trade_date\"] = all_select_df[\"trade_date\"].astype(str)\n",
    "print(all_select_df.shape)\n",
    "print(\"end date: \",end_date)\n",
    "# all_select_df = all_select_df.loc[all_select_df[\"trade_date\"] == end_date,:]\n",
    "all_select_df.to_csv(\"./output/\"+\"stock_selected_by_3_percent_\"+end_date+\".csv\", index = False)\n",
    "stocks_code = all_select_df.ts_code.values\n",
    "print(all_select_df.shape)\n",
    "all_select_df.head()"
   ]
  },
  {
   "cell_type": "code",
   "execution_count": 9,
   "metadata": {},
   "outputs": [
    {
     "name": "stdout",
     "output_type": "stream",
     "text": [
      "000001.SZ 32\n"
     ]
    }
   ],
   "source": [
    "save_dir = \"./output/select_by_3_percent/\"\n",
    "start_date = \"20140101\"\n",
    "# end_date = \"20200323\"\n",
    "\n",
    "# all_select_df = pd.read_csv(\"./output/\"+\"stock_selected_by_industry_KDJ.csv\")\n",
    "# stocks_code = [\"002497.SZ\"]  # stock \n",
    "for stock_code in stocks_code:\n",
    "    stock_df = getStock(stock_code,start_date, end_date , LOCAL = True)\n",
    "    stock_df = get3Percent(stock_df)\n",
    "    select_df = selectStockBy3Percent(stock_df )  # stock \n",
    "    print(stock_code,len(select_df))\n",
    "    for i in range(len(select_df)):\n",
    "        ix = select_df.index[i]\n",
    "        trade_date = select_df.trade_date.values[i]\n",
    "        display_df = displaySelect(stock_df,ix, trade_date= trade_date, save_dir = save_dir )\n",
    "        plt.close()                "
   ]
  }
 ],
 "metadata": {
  "kernelspec": {
   "display_name": "py37-stock",
   "language": "python",
   "name": "py37-stock"
  },
  "language_info": {
   "codemirror_mode": {
    "name": "ipython",
    "version": 3
   },
   "file_extension": ".py",
   "mimetype": "text/x-python",
   "name": "python",
   "nbconvert_exporter": "python",
   "pygments_lexer": "ipython3",
   "version": "3.7.1"
  }
 },
 "nbformat": 4,
 "nbformat_minor": 2
}
