{
 "cells": [
  {
   "cell_type": "code",
   "execution_count": 1,
   "metadata": {},
   "outputs": [
    {
     "name": "stderr",
     "output_type": "stream",
     "text": [
      "D:\\Users\\admin\\Anaconda3\\envs\\py37-stock\\lib\\site-packages\\mpl_finance.py:22: DeprecationWarning: \n",
      "\n",
      "  =================================================================\n",
      "\n",
      "   WARNING: `mpl_finance` is deprecated:\n",
      "\n",
      "    Please use `mplfinance` instead (no hyphen, no underscore).\n",
      "\n",
      "    To install: `pip install --upgrade mplfinance` \n",
      "\n",
      "   For more information, see: https://pypi.org/project/mplfinance/\n",
      "\n",
      "  =================================================================\n",
      "\n",
      "  category=DeprecationWarning)\n"
     ]
    }
   ],
   "source": [
    "import time\n",
    "import datetime\n",
    "import os\n",
    "import warnings\n",
    "warnings.filterwarnings(\"ignore\")\n",
    "\n",
    "import pandas as pd\n",
    "import numpy as np\n",
    "import tushare as ts\n",
    "ts.set_token('29eaf3bcac23df4c6d025de157ab2d53beead3391fbe6e83b4ebcb6c')\n",
    "pro = ts.pro_api()\n",
    "\n",
    "import mpl_finance as mpf\n",
    "import matplotlib.pyplot as plt\n",
    "from matplotlib import ticker\n",
    "from matplotlib.pylab import date2num\n",
    "import matplotlib as mpl\n",
    "import seaborn as sns"
   ]
  },
  {
   "cell_type": "code",
   "execution_count": 9,
   "metadata": {},
   "outputs": [],
   "source": [
    "# read \n",
    "from mylab.stock.myread import getIndexBasic # remote or local\n",
    "from mylab.stock.myread import getIndexDaily\n",
    "from mylab.stock.myread import getIndexWeekly\n",
    "from mylab.stock.myread import getIndexMonthly\n",
    "from mylab.stock.myread import getIndex\n",
    "from mylab.stock.myread import getIndustryBasic  #local only\n",
    "from mylab.stock.myread import getIndustryDaily\n",
    "from mylab.stock.myread import getIndustryWeekly\n",
    "from mylab.stock.myread import getIndustryMonthly\n",
    "from mylab.stock.myread import getIndustry\n",
    "from mylab.stock.myread import getStock\n",
    "# plot \n",
    "from mylab.stock.myplot import plotStock\n",
    "from mylab.stock.myplot import displaySelect\n",
    "# feature\n",
    "from mylab.stock.myfeature import getMacd\n",
    "from mylab.stock.myfeature import getMa\n",
    "from mylab.stock.myfeature import getKdj\n",
    "from mylab.stock.myfeature import extractFeature"
   ]
  },
  {
   "cell_type": "code",
   "execution_count": null,
   "metadata": {},
   "outputs": [],
   "source": [
    "interest_df = pd.read_csv(\"./data/stock/blue_stock.csv\")\n",
    "inteest_df.head()"
   ]
  },
  {
   "cell_type": "code",
   "execution_count": 4,
   "metadata": {},
   "outputs": [],
   "source": [
    "def selectStockByKdj(df, stock_monthly_KDJ = True, stock_weekly_KDJ = True ):\n",
    "    select_df = df.copy(deep = True)\n",
    "    select_df = select_df.loc[select_df[\"kdj_signal\"] == 1, :]\n",
    "    select_df = select_df.loc[select_df[\"D_monthly\"].values < 60, :]\n",
    "    select_df = select_df.loc[select_df[\"D_weekly\"].values < 60, :]\n",
    "    if stock_monthly_KDJ:\n",
    "        select_df = select_df.loc[select_df[\"K_monthly\"].values >= select_df['D_monthly'].values, :]\n",
    "    else:\n",
    "        select_df = select_df.loc[select_df[\"K_monthly\"].values < select_df['D_monthly'].values, :]\n",
    "    if stock_weekly_KDJ:\n",
    "        select_df = select_df.loc[select_df[\"K_weekly\"].values >= select_df['D_weekly'].values, :]\n",
    "    else:\n",
    "        select_df = select_df.loc[select_df[\"K_weekly\"].values < select_df['D_weekly'].values, :]\n",
    "    \n",
    "    return select_df"
   ]
  },
  {
   "cell_type": "code",
   "execution_count": 16,
   "metadata": {},
   "outputs": [
    {
     "name": "stdout",
     "output_type": "stream",
     "text": [
      "002050.SZ 13\n",
      "002236.SZ 19\n",
      "002262.SZ 13\n",
      "002415.SZ 16\n",
      "600183.SH 13\n",
      "601888.SH 6\n",
      "603866.SH 8\n",
      "300596.SZ 7\n",
      "603517.SH 4\n",
      "603816.SH 15\n",
      "002878.SZ 9\n",
      "603833.SH 9\n",
      "(125, 60)\n",
      "(0, 60)\n"
     ]
    },
    {
     "data": {
      "text/html": [
       "<div>\n",
       "<style scoped>\n",
       "    .dataframe tbody tr th:only-of-type {\n",
       "        vertical-align: middle;\n",
       "    }\n",
       "\n",
       "    .dataframe tbody tr th {\n",
       "        vertical-align: top;\n",
       "    }\n",
       "\n",
       "    .dataframe thead th {\n",
       "        text-align: right;\n",
       "    }\n",
       "</style>\n",
       "<table border=\"1\" class=\"dataframe\">\n",
       "  <thead>\n",
       "    <tr style=\"text-align: right;\">\n",
       "      <th></th>\n",
       "      <th>ts_code</th>\n",
       "      <th>trade_date</th>\n",
       "      <th>open</th>\n",
       "      <th>high</th>\n",
       "      <th>low</th>\n",
       "      <th>close</th>\n",
       "      <th>pre_close</th>\n",
       "      <th>change</th>\n",
       "      <th>pct_chg</th>\n",
       "      <th>vol</th>\n",
       "      <th>...</th>\n",
       "      <th>K_monthly</th>\n",
       "      <th>D_monthly</th>\n",
       "      <th>J_monthly</th>\n",
       "      <th>kdj_signal_monthly</th>\n",
       "      <th>sema_monthly</th>\n",
       "      <th>lema_monthly</th>\n",
       "      <th>dif_monthly</th>\n",
       "      <th>dea_monthly</th>\n",
       "      <th>macd_monthly</th>\n",
       "      <th>macd_signal_monthly</th>\n",
       "    </tr>\n",
       "  </thead>\n",
       "  <tbody>\n",
       "  </tbody>\n",
       "</table>\n",
       "<p>0 rows × 60 columns</p>\n",
       "</div>"
      ],
      "text/plain": [
       "Empty DataFrame\n",
       "Columns: [ts_code, trade_date, open, high, low, close, pre_close, change, pct_chg, vol, amount, trade_date_stamp, K, D, J, kdj_signal, sema, lema, dif, dea, macd, macd_signal, close_weekly, open_weekly, high_weekly, low_weekly, pre_close_weekly, change_weekly, pct_chg_weekly, vol_weekly, amount_weekly, K_weekly, D_weekly, J_weekly, kdj_signal_weekly, sema_weekly, lema_weekly, dif_weekly, dea_weekly, macd_weekly, macd_signal_weekly, close_monthly, open_monthly, high_monthly, low_monthly, pre_close_monthly, change_monthly, pct_chg_monthly, vol_monthly, amount_monthly, K_monthly, D_monthly, J_monthly, kdj_signal_monthly, sema_monthly, lema_monthly, dif_monthly, dea_monthly, macd_monthly, macd_signal_monthly]\n",
       "Index: []\n",
       "\n",
       "[0 rows x 60 columns]"
      ]
     },
     "execution_count": 16,
     "metadata": {},
     "output_type": "execute_result"
    }
   ],
   "source": [
    "start_date = \"20140101\"\n",
    "end_date = \"20200324\"\n",
    "\n",
    "stock_select_df = pd.read_csv(\"./data/stock/blue_stock.csv\")\n",
    "all_select_df = pd.DataFrame()\n",
    "for i in range(len(stock_select_df)):\n",
    "    stock_code = stock_select_df.loc[i,\"ts_code\"]\n",
    "    stock_name = stock_select_df.loc[i,\"name\"]\n",
    "\n",
    "    stock_df = getStock(stock_code,start_date, end_date, LOCAL = True)\n",
    "#     stock_df = selectStockByKdj(stock_df, stock_monthly_KDJ = True, stock_weekly_KDJ = True )  # stock \n",
    "    stock_df = stock_df.loc[stock_df[\"kdj_signal\"] == 1, :]\n",
    "    stock_df = stock_df.loc[stock_df[\"D\"].values < 20, :]\n",
    "    print(stock_code,len(stock_df))\n",
    "    if stock_code[0] == \"3\":\n",
    "        continue\n",
    "    if stock_name[0] == \"*\":\n",
    "        continue     \n",
    "    if len(stock_df) > 0:  \n",
    "        all_select_df  = pd.concat([all_select_df,stock_df],axis = 0)\n",
    "\n",
    "all_select_df.to_csv(\"./output/stock_only/\"+\"blue_stock_only.csv\", index = False)\n",
    "print(all_select_df.shape)\n",
    "all_select_df = all_select_df.loc[all_select_df[\"trade_date\"] == end_date,:]\n",
    "print(all_select_df.shape)\n",
    "all_select_df.head()"
   ]
  },
  {
   "cell_type": "code",
   "execution_count": 17,
   "metadata": {},
   "outputs": [
    {
     "name": "stdout",
     "output_type": "stream",
     "text": [
      "002050.SZ 12\n",
      "002236.SZ 18\n",
      "002262.SZ 13\n",
      "002415.SZ 16\n",
      "600183.SH 13\n",
      "601888.SH 6\n",
      "603866.SH 7\n",
      "300596.SZ 0\n",
      "603517.SH 3\n",
      "603816.SH 15\n",
      "002878.SZ 8\n",
      "603833.SH 9\n"
     ]
    }
   ],
   "source": [
    "save_dir = \"./output/stock_only/\"\n",
    "start_date = \"20140101\"\n",
    "# end_date = \"20200324\"\n",
    "\n",
    "# all_select_df = pd.read_csv(\"./output/stock_only/\"+\"blue_stock_only.csv\")\n",
    "interest_df = pd.read_csv(\"./data/stock/blue_stock.csv\")\n",
    "stocks_code = interest_df.ts_code.values\n",
    "# stocks_code = [\"603969.SH\"]\n",
    "for stock_code in stocks_code:\n",
    "    stock_df = getStock(stock_code,start_date, end_date , LOCAL = True)\n",
    "    select_df = pd.read_csv(\"./output/stock_only/\"+\"blue_stock_only.csv\")\n",
    "    select_df[\"trade_date\"] = select_df[\"trade_date\"].astype(\"str\")\n",
    "    select_df = select_df.loc[select_df[\"ts_code\"].values == stock_code,[\"trade_date\",\"pre_close\",\"pct_chg\"]]\n",
    "    select_df = pd.merge(stock_df,select_df, how = \"left\", on = \"trade_date\")\n",
    "    select_df = select_df.dropna(how = \"any\")\n",
    "    print(stock_code,len(select_df))\n",
    "    for i in range(len(select_df)):\n",
    "        ix = select_df.index[i]\n",
    "        trade_date = select_df.trade_date.values[i]\n",
    "        display_df = displaySelect(stock_df,ix, trade_date= trade_date, save_dir = save_dir )\n",
    "        plt.close()                "
   ]
  },
  {
   "cell_type": "code",
   "execution_count": null,
   "metadata": {},
   "outputs": [],
   "source": []
  }
 ],
 "metadata": {
  "kernelspec": {
   "display_name": "py37-stock",
   "language": "python",
   "name": "py37-stock"
  },
  "language_info": {
   "codemirror_mode": {
    "name": "ipython",
    "version": 3
   },
   "file_extension": ".py",
   "mimetype": "text/x-python",
   "name": "python",
   "nbconvert_exporter": "python",
   "pygments_lexer": "ipython3",
   "version": "3.7.1"
  }
 },
 "nbformat": 4,
 "nbformat_minor": 4
}
